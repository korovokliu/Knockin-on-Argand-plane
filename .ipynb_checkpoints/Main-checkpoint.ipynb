{
 "cells": [
  {
   "cell_type": "markdown",
   "metadata": {},
   "source": [
    "# Начало"
   ]
  },
  {
   "cell_type": "markdown",
   "metadata": {},
   "source": [
    "<i style=\"color: grey; font-size: 90%;\">Ниже используется магический метод для представления ячейки в виде html-страницы. Я могла бы скрыть этот код (т.к. здесь он не нужен), но тогда импорт css файла не будет работать.</i>"
   ]
  },
  {
   "cell_type": "code",
   "execution_count": 5,
   "metadata": {},
   "outputs": [
    {
     "data": {
      "text/html": [
       "<link rel=\"stylesheet\" href=\"CSS/details_style.css\">\n",
       "<details class=\"details_notes\">Заметки, которые мне пока лень переносить</summary><img src=\"Images\\euler's formula.png\"></details>\n",
       "<details class=\"details_questions\"><summary>Некоторые непонятки и вопросы</summary><img src=\"Images\\вопрос.png\"></details>\n"
      ],
      "text/plain": [
       "<IPython.core.display.HTML object>"
      ]
     },
     "metadata": {},
     "output_type": "display_data"
    }
   ],
   "source": [
    "%%HTML\n",
    "<link rel=\"stylesheet\" href=\"CSS/details_style.css\">\n",
    "<details class=\"details_notes\">Заметки, которые мне пока лень переносить</summary><img src=\"Images\\euler's formula.png\"></details>\n",
    "<details class=\"details_questions\"><summary>Некоторые непонятки и вопросы</summary><img src=\"Images\\вопрос.png\"></details>"
   ]
  },
  {
   "cell_type": "markdown",
   "metadata": {},
   "source": [
    "## Тут какая-нибудь теория, которую мне лень пока писать (хочу спать)"
   ]
  },
  {
   "cell_type": "markdown",
   "metadata": {},
   "source": [
    "Производная на всех функции eˣ будет одинаковой<br>\n",
    "f(x) = f'(x) = f⁽²⁾(x) = f⁽³⁾(x) = ... = f⁽ⁿ⁾ = eˣ<br>\n",
    "<div style=\"text-align: center; font-size: 150%; border: 4px outset pink; border-radius: 5px; display: float; float: right; padding: 3px; margin: 4px;\">${\\displaystyle \\sum\\limits_{n = 0}^{\\infty} \\frac{f^{(n)}(a)}{n!}(x - a)^n}$ </div>\n",
    "Найдем производные вплоть до n-порядка в точке 0 (ряд Маклорена):<br>\n",
    "f'(0) = e⁰ = 1<br>\n",
    "f⁽²⁾(0) = e⁰ = 1<br>\n",
    "...<br>\n",
    "f⁽ⁿ⁾(0) = e⁰ = 1\n",
    "<br>\n",
    "По формуле Маклорена (ряд Тейлора для точки 0):<br>\n",
    "${\\displaystyle e^{x}=\\sum _{{n=0}}^{\\infty }{x^{n} \\over n!}=1+x+{\\frac  {x^{2}}{2!}}+{\\frac  {x^{3}}{3!}}+{\\frac  {x^{4}}{4!}}+\\cdots} $\n",
    "<br>"
   ]
  },
  {
   "cell_type": "markdown",
   "metadata": {},
   "source": [
    "<img style=\"display: float; float: left; padding-right: 8px; max-width: 450px;\" src=\"Images\\add_euler_number_with_it_conjugate.jpg\"> <img style=\"display: float; float: right; padding-right: 8px; max-width: 350px;\" src=\"Images\\Sine_Cosine_Exponential_qtl1.svg\">По формуле Эйлера можно выразить синус и косинус через комплексную экспоненту. Отсюда получается гиперболический синус и косинус"
   ]
  },
  {
   "cell_type": "code",
   "execution_count": 38,
   "metadata": {},
   "outputs": [
    {
     "name": "stdout",
     "output_type": "stream",
     "text": [
      "Координаты: 2+0i\n"
     ]
    }
   ],
   "source": [
    "# тут будет импорт из твоего ipynb, но неплохо бы код переделать\n",
    "import import_ipynb  # pip install import-ipynb\n",
    "from Complex_Functions_Graphing import test\n",
    "p = test('2')\n",
    "print(p)"
   ]
  },
  {
   "cell_type": "code",
   "execution_count": null,
   "metadata": {},
   "outputs": [],
   "source": []
  }
 ],
 "metadata": {
  "kernelspec": {
   "display_name": "Python 3",
   "language": "python",
   "name": "python3"
  },
  "language_info": {
   "codemirror_mode": {
    "name": "ipython",
    "version": 3
   },
   "file_extension": ".py",
   "mimetype": "text/x-python",
   "name": "python",
   "nbconvert_exporter": "python",
   "pygments_lexer": "ipython3",
   "version": "3.8.1"
  }
 },
 "nbformat": 4,
 "nbformat_minor": 4
}
