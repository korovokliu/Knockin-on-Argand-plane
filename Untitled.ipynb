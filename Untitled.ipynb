{
 "cells": [
  {
   "cell_type": "markdown",
   "metadata": {},
   "source": [
    "# Начало"
   ]
  },
  {
   "cell_type": "markdown",
   "metadata": {},
   "source": [
    "<i style=\"color: grey; font-size: 90%;\">Ниже используется магический метод для представления ячейки в виде html-страницы. Я могла бы скрыть этот код (т.к. здесь он не нужен), но тогда импорт css файла не будет работать.</i>"
   ]
  },
  {
   "cell_type": "code",
   "execution_count": 6,
   "metadata": {},
   "outputs": [
    {
     "data": {
      "text/html": [
       "<link rel=\"stylesheet\" href=\"CSS/details_style.css\">\n",
       "<details class=\"\">Заметки, которые мне пока лень переносить</summary><img src=\"euler's formula.png\"></details>\n",
       "<details><summary>Некоторые непонятки и вопросы</summary><img src=\"вопрос.png\"></details>\n"
      ],
      "text/plain": [
       "<IPython.core.display.HTML object>"
      ]
     },
     "metadata": {},
     "output_type": "display_data"
    }
   ],
   "source": [
    "%%HTML\n",
    "<link rel=\"stylesheet\" href=\"CSS/details_style.css\">\n",
    "<details class=\"details_notes\">Заметки, которые мне пока лень переносить</summary><img src=\"euler's formula.png\"></details>\n",
    "<details class=\"details_questions\"><summary>Некоторые непонятки и вопросы</summary><img src=\"вопрос.png\"></details>"
   ]
  },
  {
   "cell_type": "code",
   "execution_count": null,
   "metadata": {},
   "outputs": [],
   "source": []
  }
 ],
 "metadata": {
  "kernelspec": {
   "display_name": "Python 3",
   "language": "python",
   "name": "python3"
  },
  "language_info": {
   "codemirror_mode": {
    "name": "ipython",
    "version": 3
   },
   "file_extension": ".py",
   "mimetype": "text/x-python",
   "name": "python",
   "nbconvert_exporter": "python",
   "pygments_lexer": "ipython3",
   "version": "3.8.1"
  }
 },
 "nbformat": 4,
 "nbformat_minor": 4
}
